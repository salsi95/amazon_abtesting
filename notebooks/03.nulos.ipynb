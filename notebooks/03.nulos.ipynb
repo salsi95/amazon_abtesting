{
 "cells": [
  {
   "cell_type": "code",
   "execution_count": 71,
   "metadata": {},
   "outputs": [],
   "source": [
    "import pandas as pd\n",
    "import matplotlib.pyplot as plt\n",
    "import seaborn as sns\n",
    "from sklearn.experimental import enable_iterative_imputer\n",
    "from sklearn.impute import KNNImputer, IterativeImputer\n"
   ]
  },
  {
   "cell_type": "code",
   "execution_count": 2,
   "metadata": {},
   "outputs": [
    {
     "data": {
      "text/html": [
       "<div>\n",
       "<style scoped>\n",
       "    .dataframe tbody tr th:only-of-type {\n",
       "        vertical-align: middle;\n",
       "    }\n",
       "\n",
       "    .dataframe tbody tr th {\n",
       "        vertical-align: top;\n",
       "    }\n",
       "\n",
       "    .dataframe thead th {\n",
       "        text-align: right;\n",
       "    }\n",
       "</style>\n",
       "<table border=\"1\" class=\"dataframe\">\n",
       "  <thead>\n",
       "    <tr style=\"text-align: right;\">\n",
       "      <th></th>\n",
       "      <th>user_id</th>\n",
       "      <th>group</th>\n",
       "      <th>visit_date</th>\n",
       "      <th>conversion</th>\n",
       "      <th>product_category</th>\n",
       "      <th>product_id</th>\n",
       "      <th>product_name</th>\n",
       "      <th>quantity</th>\n",
       "      <th>price</th>\n",
       "      <th>discount</th>\n",
       "      <th>...</th>\n",
       "      <th>shipping_method</th>\n",
       "      <th>region</th>\n",
       "      <th>customer_age</th>\n",
       "      <th>customer_gender</th>\n",
       "      <th>device</th>\n",
       "      <th>session_duration</th>\n",
       "      <th>coupon_used</th>\n",
       "      <th>browser</th>\n",
       "      <th>referral_source</th>\n",
       "      <th>conversion_str</th>\n",
       "    </tr>\n",
       "  </thead>\n",
       "  <tbody>\n",
       "    <tr>\n",
       "      <th>1855</th>\n",
       "      <td>1856</td>\n",
       "      <td>a</td>\n",
       "      <td>2022-03-16</td>\n",
       "      <td>0</td>\n",
       "      <td>fashhion</td>\n",
       "      <td>1793</td>\n",
       "      <td>jeans</td>\n",
       "      <td>0</td>\n",
       "      <td>58.19</td>\n",
       "      <td>0.25</td>\n",
       "      <td>...</td>\n",
       "      <td>NaN</td>\n",
       "      <td>east</td>\n",
       "      <td>49.0</td>\n",
       "      <td>m</td>\n",
       "      <td>desktop</td>\n",
       "      <td>27</td>\n",
       "      <td>NaN</td>\n",
       "      <td>other</td>\n",
       "      <td>social</td>\n",
       "      <td>no</td>\n",
       "    </tr>\n",
       "    <tr>\n",
       "      <th>1532</th>\n",
       "      <td>1533</td>\n",
       "      <td>b</td>\n",
       "      <td>2022-01-22</td>\n",
       "      <td>0</td>\n",
       "      <td>electronics</td>\n",
       "      <td>1714</td>\n",
       "      <td>smartphone</td>\n",
       "      <td>0</td>\n",
       "      <td>483.22</td>\n",
       "      <td>0.06</td>\n",
       "      <td>...</td>\n",
       "      <td>NaN</td>\n",
       "      <td>north</td>\n",
       "      <td>33.0</td>\n",
       "      <td>m</td>\n",
       "      <td>desktop</td>\n",
       "      <td>1</td>\n",
       "      <td>NaN</td>\n",
       "      <td>chrome</td>\n",
       "      <td>social</td>\n",
       "      <td>no</td>\n",
       "    </tr>\n",
       "  </tbody>\n",
       "</table>\n",
       "<p>2 rows × 22 columns</p>\n",
       "</div>"
      ],
      "text/plain": [
       "      user_id group  visit_date  conversion product_category  product_id  \\\n",
       "1855     1856     a  2022-03-16           0         fashhion        1793   \n",
       "1532     1533     b  2022-01-22           0      electronics        1714   \n",
       "\n",
       "     product_name  quantity   price  discount  ...  shipping_method region  \\\n",
       "1855        jeans         0   58.19      0.25  ...              NaN   east   \n",
       "1532   smartphone         0  483.22      0.06  ...              NaN  north   \n",
       "\n",
       "     customer_age customer_gender   device session_duration coupon_used  \\\n",
       "1855         49.0               m  desktop               27         NaN   \n",
       "1532         33.0               m  desktop                1         NaN   \n",
       "\n",
       "      browser referral_source conversion_str  \n",
       "1855    other          social             no  \n",
       "1532   chrome          social             no  \n",
       "\n",
       "[2 rows x 22 columns]"
      ]
     },
     "execution_count": 2,
     "metadata": {},
     "output_type": "execute_result"
    }
   ],
   "source": [
    "df_o = pd.read_csv('../data/data_limpios.csv')\n",
    "df_o.sample(2)"
   ]
  },
  {
   "cell_type": "code",
   "execution_count": 3,
   "metadata": {},
   "outputs": [],
   "source": [
    "df = df_o.copy()"
   ]
  },
  {
   "cell_type": "code",
   "execution_count": 6,
   "metadata": {},
   "outputs": [
    {
     "data": {
      "text/plain": [
       "user_id              0.00\n",
       "group                0.00\n",
       "visit_date           0.00\n",
       "conversion           0.00\n",
       "product_category     0.00\n",
       "product_id           0.00\n",
       "product_name         0.00\n",
       "quantity             0.00\n",
       "price                2.00\n",
       "discount             2.00\n",
       "total_value          0.00\n",
       "payment_method      87.65\n",
       "shipping_method     87.65\n",
       "region               0.00\n",
       "customer_age         2.00\n",
       "customer_gender      0.00\n",
       "device               0.00\n",
       "session_duration     0.00\n",
       "coupon_used         87.65\n",
       "browser              0.00\n",
       "referral_source      0.00\n",
       "conversion_str       0.00\n",
       "dtype: float64"
      ]
     },
     "execution_count": 6,
     "metadata": {},
     "output_type": "execute_result"
    }
   ],
   "source": [
    "df.isnull().mean()*100"
   ]
  },
  {
   "cell_type": "code",
   "execution_count": 7,
   "metadata": {},
   "outputs": [
    {
     "data": {
      "text/html": [
       "<div>\n",
       "<style scoped>\n",
       "    .dataframe tbody tr th:only-of-type {\n",
       "        vertical-align: middle;\n",
       "    }\n",
       "\n",
       "    .dataframe tbody tr th {\n",
       "        vertical-align: top;\n",
       "    }\n",
       "\n",
       "    .dataframe thead th {\n",
       "        text-align: right;\n",
       "    }\n",
       "</style>\n",
       "<table border=\"1\" class=\"dataframe\">\n",
       "  <thead>\n",
       "    <tr style=\"text-align: right;\">\n",
       "      <th></th>\n",
       "      <th>price</th>\n",
       "      <th>discount</th>\n",
       "      <th>payment_method</th>\n",
       "      <th>shipping_method</th>\n",
       "      <th>customer_age</th>\n",
       "      <th>coupon_used</th>\n",
       "    </tr>\n",
       "  </thead>\n",
       "  <tbody>\n",
       "    <tr>\n",
       "      <th>0</th>\n",
       "      <td>41.27</td>\n",
       "      <td>0.29</td>\n",
       "      <td>NaN</td>\n",
       "      <td>NaN</td>\n",
       "      <td>64.0</td>\n",
       "      <td>NaN</td>\n",
       "    </tr>\n",
       "    <tr>\n",
       "      <th>1</th>\n",
       "      <td>45.45</td>\n",
       "      <td>0.22</td>\n",
       "      <td>NaN</td>\n",
       "      <td>NaN</td>\n",
       "      <td>19.0</td>\n",
       "      <td>NaN</td>\n",
       "    </tr>\n",
       "    <tr>\n",
       "      <th>2</th>\n",
       "      <td>64.81</td>\n",
       "      <td>0.08</td>\n",
       "      <td>NaN</td>\n",
       "      <td>NaN</td>\n",
       "      <td>69.0</td>\n",
       "      <td>NaN</td>\n",
       "    </tr>\n",
       "    <tr>\n",
       "      <th>3</th>\n",
       "      <td>189.40</td>\n",
       "      <td>0.08</td>\n",
       "      <td>credit_card</td>\n",
       "      <td>express</td>\n",
       "      <td>53.0</td>\n",
       "      <td>no</td>\n",
       "    </tr>\n",
       "    <tr>\n",
       "      <th>4</th>\n",
       "      <td>19.82</td>\n",
       "      <td>0.19</td>\n",
       "      <td>NaN</td>\n",
       "      <td>NaN</td>\n",
       "      <td>18.0</td>\n",
       "      <td>NaN</td>\n",
       "    </tr>\n",
       "    <tr>\n",
       "      <th>...</th>\n",
       "      <td>...</td>\n",
       "      <td>...</td>\n",
       "      <td>...</td>\n",
       "      <td>...</td>\n",
       "      <td>...</td>\n",
       "      <td>...</td>\n",
       "    </tr>\n",
       "    <tr>\n",
       "      <th>1995</th>\n",
       "      <td>177.49</td>\n",
       "      <td>0.20</td>\n",
       "      <td>NaN</td>\n",
       "      <td>NaN</td>\n",
       "      <td>25.0</td>\n",
       "      <td>NaN</td>\n",
       "    </tr>\n",
       "    <tr>\n",
       "      <th>1996</th>\n",
       "      <td>109.75</td>\n",
       "      <td>0.20</td>\n",
       "      <td>NaN</td>\n",
       "      <td>NaN</td>\n",
       "      <td>58.0</td>\n",
       "      <td>NaN</td>\n",
       "    </tr>\n",
       "    <tr>\n",
       "      <th>1997</th>\n",
       "      <td>236.05</td>\n",
       "      <td>0.15</td>\n",
       "      <td>NaN</td>\n",
       "      <td>NaN</td>\n",
       "      <td>62.0</td>\n",
       "      <td>NaN</td>\n",
       "    </tr>\n",
       "    <tr>\n",
       "      <th>1998</th>\n",
       "      <td>22.67</td>\n",
       "      <td>0.11</td>\n",
       "      <td>NaN</td>\n",
       "      <td>NaN</td>\n",
       "      <td>46.0</td>\n",
       "      <td>NaN</td>\n",
       "    </tr>\n",
       "    <tr>\n",
       "      <th>1999</th>\n",
       "      <td>47.05</td>\n",
       "      <td>0.22</td>\n",
       "      <td>NaN</td>\n",
       "      <td>NaN</td>\n",
       "      <td>37.0</td>\n",
       "      <td>NaN</td>\n",
       "    </tr>\n",
       "  </tbody>\n",
       "</table>\n",
       "<p>2000 rows × 6 columns</p>\n",
       "</div>"
      ],
      "text/plain": [
       "       price  discount payment_method shipping_method  customer_age  \\\n",
       "0      41.27      0.29            NaN             NaN          64.0   \n",
       "1      45.45      0.22            NaN             NaN          19.0   \n",
       "2      64.81      0.08            NaN             NaN          69.0   \n",
       "3     189.40      0.08    credit_card         express          53.0   \n",
       "4      19.82      0.19            NaN             NaN          18.0   \n",
       "...      ...       ...            ...             ...           ...   \n",
       "1995  177.49      0.20            NaN             NaN          25.0   \n",
       "1996  109.75      0.20            NaN             NaN          58.0   \n",
       "1997  236.05      0.15            NaN             NaN          62.0   \n",
       "1998   22.67      0.11            NaN             NaN          46.0   \n",
       "1999   47.05      0.22            NaN             NaN          37.0   \n",
       "\n",
       "     coupon_used  \n",
       "0            NaN  \n",
       "1            NaN  \n",
       "2            NaN  \n",
       "3             no  \n",
       "4            NaN  \n",
       "...          ...  \n",
       "1995         NaN  \n",
       "1996         NaN  \n",
       "1997         NaN  \n",
       "1998         NaN  \n",
       "1999         NaN  \n",
       "\n",
       "[2000 rows x 6 columns]"
      ]
     },
     "execution_count": 7,
     "metadata": {},
     "output_type": "execute_result"
    }
   ],
   "source": [
    "df_nulos = df.loc[:,df.isnull().sum()> 0]\n",
    "df_nulos"
   ]
  },
  {
   "cell_type": "markdown",
   "metadata": {},
   "source": [
    "# Nulos Categóricas"
   ]
  },
  {
   "cell_type": "code",
   "execution_count": 11,
   "metadata": {},
   "outputs": [
    {
     "name": "stdout",
     "output_type": "stream",
     "text": [
      "PAYMENT_METHOD\n"
     ]
    },
    {
     "data": {
      "text/plain": [
       "payment_method\n",
       "bank_transfer       3.65\n",
       "credit_card         3.35\n",
       "paypal              2.85\n",
       "cash_on_delivery    2.50\n",
       "Name: count, dtype: float64"
      ]
     },
     "metadata": {},
     "output_type": "display_data"
    },
    {
     "name": "stdout",
     "output_type": "stream",
     "text": [
      "-----------\n",
      "SHIPPING_METHOD\n"
     ]
    },
    {
     "data": {
      "text/plain": [
       "shipping_method\n",
       "express     4.50\n",
       "same_day    4.10\n",
       "standard    3.75\n",
       "Name: count, dtype: float64"
      ]
     },
     "metadata": {},
     "output_type": "display_data"
    },
    {
     "name": "stdout",
     "output_type": "stream",
     "text": [
      "-----------\n",
      "COUPON_USED\n"
     ]
    },
    {
     "data": {
      "text/plain": [
       "coupon_used\n",
       "no     6.60\n",
       "yes    5.75\n",
       "Name: count, dtype: float64"
      ]
     },
     "metadata": {},
     "output_type": "display_data"
    },
    {
     "name": "stdout",
     "output_type": "stream",
     "text": [
      "-----------\n"
     ]
    }
   ],
   "source": [
    "for col in df_nulos.select_dtypes(include='O').columns:\n",
    "    print(col.upper())\n",
    "    display(df[col].value_counts()/df.shape[0]*100)\n",
    "    print('-----------')"
   ]
  },
  {
   "cell_type": "code",
   "execution_count": 12,
   "metadata": {},
   "outputs": [],
   "source": [
    "def subplot_col_cat(dataframe):\n",
    "\n",
    "     # Seleccionar columnas categóricas\n",
    "    categorical_cols = dataframe.select_dtypes(include=['object', 'category']).columns\n",
    "\n",
    "    if len(categorical_cols) == 0:\n",
    "        \n",
    "        return \"No hay columnas categóricas en el DataFrame.\"\n",
    "    \n",
    "    # Configurar el tamaño de la figura\n",
    "    num_cols = len(categorical_cols)\n",
    "    rows = (num_cols + 2) // 3  # Calcular filas necesarias para 3 columnas por fila\n",
    "    fig, axes = plt.subplots(rows, 3, figsize=(15, rows * 5))\n",
    "    axes = axes.flatten()  # Convertir los ejes a un array de una 1d plano para fácil iteración\n",
    "    \n",
    "    # Generar gráficos para cada columna categórica\n",
    "    for i, col in enumerate(categorical_cols):\n",
    "        sns.countplot(data=dataframe, x=col, ax=axes[i], hue=col, palette=\"tab10\", legend=False)\n",
    "        axes[i].set_title(f'Distribución de {col}')\n",
    "        axes[i].set_xlabel(col)\n",
    "        axes[i].set_ylabel('Frecuencia')\n",
    "        axes[i].tick_params(axis='x', rotation=90)  # Rotar etiquetas si es necesario\n",
    "\n",
    "    # Eliminar ejes sobrantes si hay menos columnas que subplots\n",
    "    for j in range(i + 1, len(axes)):\n",
    "        fig.delaxes(axes[j])\n",
    "\n",
    "    # Ajustar diseño\n",
    "    plt.tight_layout()\n",
    "    plt.show()"
   ]
  },
  {
   "cell_type": "code",
   "execution_count": 21,
   "metadata": {},
   "outputs": [
    {
     "data": {
      "image/png": "[encoded data removed]",
      "text/plain": [
       "<Figure size 1500x500 with 3 Axes>"
      ]
     },
     "metadata": {},
     "output_type": "display_data"
    }
   ],
   "source": [
    "subplot_col_cat(df_nulos)"
   ]
  },
  {
   "cell_type": "code",
   "execution_count": 24,
   "metadata": {},
   "outputs": [
    {
     "data": {
      "text/plain": [
       "payment_method     87.65\n",
       "shipping_method    87.65\n",
       "coupon_used        87.65\n",
       "dtype: float64"
      ]
     },
     "execution_count": 24,
     "metadata": {},
     "output_type": "execute_result"
    }
   ],
   "source": [
    "df_nulos.select_dtypes(include = 'O').isnull().mean()*100"
   ]
  },
  {
   "cell_type": "markdown",
   "metadata": {},
   "source": [
    "Se ha comprobado que los nulos de las columnas categóricas son debido a que no se ha realizado la compra, por lo tanto, no tienen método de pago, método de transporte ni se ha utilizado ningún cupón"
   ]
  },
  {
   "cell_type": "code",
   "execution_count": 32,
   "metadata": {},
   "outputs": [],
   "source": [
    "df.loc[:,df.select_dtypes(include= 'O').columns] = df.select_dtypes(include='O').fillna('no_conversion')"
   ]
  },
  {
   "cell_type": "code",
   "execution_count": 34,
   "metadata": {},
   "outputs": [
    {
     "data": {
      "text/plain": [
       "user_id             0.0\n",
       "group               0.0\n",
       "visit_date          0.0\n",
       "conversion          0.0\n",
       "product_category    0.0\n",
       "product_id          0.0\n",
       "product_name        0.0\n",
       "quantity            0.0\n",
       "price               2.0\n",
       "discount            2.0\n",
       "total_value         0.0\n",
       "payment_method      0.0\n",
       "shipping_method     0.0\n",
       "region              0.0\n",
       "customer_age        2.0\n",
       "customer_gender     0.0\n",
       "device              0.0\n",
       "session_duration    0.0\n",
       "coupon_used         0.0\n",
       "browser             0.0\n",
       "referral_source     0.0\n",
       "conversion_str      0.0\n",
       "dtype: float64"
      ]
     },
     "execution_count": 34,
     "metadata": {},
     "output_type": "execute_result"
    }
   ],
   "source": [
    "df.isnull().mean()*100"
   ]
  },
  {
   "cell_type": "markdown",
   "metadata": {},
   "source": [
    "# Outliers Numéricas"
   ]
  },
  {
   "cell_type": "code",
   "execution_count": 37,
   "metadata": {},
   "outputs": [
    {
     "data": {
      "text/html": [
       "<div>\n",
       "<style scoped>\n",
       "    .dataframe tbody tr th:only-of-type {\n",
       "        vertical-align: middle;\n",
       "    }\n",
       "\n",
       "    .dataframe tbody tr th {\n",
       "        vertical-align: top;\n",
       "    }\n",
       "\n",
       "    .dataframe thead th {\n",
       "        text-align: right;\n",
       "    }\n",
       "</style>\n",
       "<table border=\"1\" class=\"dataframe\">\n",
       "  <thead>\n",
       "    <tr style=\"text-align: right;\">\n",
       "      <th></th>\n",
       "      <th>count</th>\n",
       "      <th>mean</th>\n",
       "      <th>std</th>\n",
       "      <th>min</th>\n",
       "      <th>25%</th>\n",
       "      <th>50%</th>\n",
       "      <th>75%</th>\n",
       "      <th>max</th>\n",
       "    </tr>\n",
       "  </thead>\n",
       "  <tbody>\n",
       "    <tr>\n",
       "      <th>user_id</th>\n",
       "      <td>2000.0</td>\n",
       "      <td>1000.500000</td>\n",
       "      <td>577.494589</td>\n",
       "      <td>1.00</td>\n",
       "      <td>500.7500</td>\n",
       "      <td>1000.500</td>\n",
       "      <td>1500.250</td>\n",
       "      <td>2000.00</td>\n",
       "    </tr>\n",
       "    <tr>\n",
       "      <th>conversion</th>\n",
       "      <td>2000.0</td>\n",
       "      <td>0.123500</td>\n",
       "      <td>0.329093</td>\n",
       "      <td>0.00</td>\n",
       "      <td>0.0000</td>\n",
       "      <td>0.000</td>\n",
       "      <td>0.000</td>\n",
       "      <td>1.00</td>\n",
       "    </tr>\n",
       "    <tr>\n",
       "      <th>product_id</th>\n",
       "      <td>2000.0</td>\n",
       "      <td>1501.560000</td>\n",
       "      <td>287.188372</td>\n",
       "      <td>1000.00</td>\n",
       "      <td>1256.0000</td>\n",
       "      <td>1510.500</td>\n",
       "      <td>1746.500</td>\n",
       "      <td>1998.00</td>\n",
       "    </tr>\n",
       "    <tr>\n",
       "      <th>quantity</th>\n",
       "      <td>2000.0</td>\n",
       "      <td>0.371000</td>\n",
       "      <td>1.096339</td>\n",
       "      <td>0.00</td>\n",
       "      <td>0.0000</td>\n",
       "      <td>0.000</td>\n",
       "      <td>0.000</td>\n",
       "      <td>5.00</td>\n",
       "    </tr>\n",
       "    <tr>\n",
       "      <th>price</th>\n",
       "      <td>1960.0</td>\n",
       "      <td>184.572138</td>\n",
       "      <td>211.981538</td>\n",
       "      <td>5.02</td>\n",
       "      <td>46.0925</td>\n",
       "      <td>102.465</td>\n",
       "      <td>236.155</td>\n",
       "      <td>998.88</td>\n",
       "    </tr>\n",
       "    <tr>\n",
       "      <th>discount</th>\n",
       "      <td>1960.0</td>\n",
       "      <td>0.150224</td>\n",
       "      <td>0.086591</td>\n",
       "      <td>0.00</td>\n",
       "      <td>0.0800</td>\n",
       "      <td>0.150</td>\n",
       "      <td>0.220</td>\n",
       "      <td>0.30</td>\n",
       "    </tr>\n",
       "    <tr>\n",
       "      <th>total_value</th>\n",
       "      <td>2000.0</td>\n",
       "      <td>51.754830</td>\n",
       "      <td>234.575099</td>\n",
       "      <td>0.00</td>\n",
       "      <td>0.0000</td>\n",
       "      <td>0.000</td>\n",
       "      <td>0.000</td>\n",
       "      <td>2904.07</td>\n",
       "    </tr>\n",
       "    <tr>\n",
       "      <th>customer_age</th>\n",
       "      <td>1960.0</td>\n",
       "      <td>43.156633</td>\n",
       "      <td>15.361675</td>\n",
       "      <td>18.00</td>\n",
       "      <td>30.0000</td>\n",
       "      <td>42.000</td>\n",
       "      <td>56.000</td>\n",
       "      <td>70.00</td>\n",
       "    </tr>\n",
       "    <tr>\n",
       "      <th>session_duration</th>\n",
       "      <td>2000.0</td>\n",
       "      <td>15.633500</td>\n",
       "      <td>8.692235</td>\n",
       "      <td>1.00</td>\n",
       "      <td>8.0000</td>\n",
       "      <td>16.000</td>\n",
       "      <td>23.000</td>\n",
       "      <td>30.00</td>\n",
       "    </tr>\n",
       "  </tbody>\n",
       "</table>\n",
       "</div>"
      ],
      "text/plain": [
       "                   count         mean         std      min        25%  \\\n",
       "user_id           2000.0  1000.500000  577.494589     1.00   500.7500   \n",
       "conversion        2000.0     0.123500    0.329093     0.00     0.0000   \n",
       "product_id        2000.0  1501.560000  287.188372  1000.00  1256.0000   \n",
       "quantity          2000.0     0.371000    1.096339     0.00     0.0000   \n",
       "price             1960.0   184.572138  211.981538     5.02    46.0925   \n",
       "discount          1960.0     0.150224    0.086591     0.00     0.0800   \n",
       "total_value       2000.0    51.754830  234.575099     0.00     0.0000   \n",
       "customer_age      1960.0    43.156633   15.361675    18.00    30.0000   \n",
       "session_duration  2000.0    15.633500    8.692235     1.00     8.0000   \n",
       "\n",
       "                       50%       75%      max  \n",
       "user_id           1000.500  1500.250  2000.00  \n",
       "conversion           0.000     0.000     1.00  \n",
       "product_id        1510.500  1746.500  1998.00  \n",
       "quantity             0.000     0.000     5.00  \n",
       "price              102.465   236.155   998.88  \n",
       "discount             0.150     0.220     0.30  \n",
       "total_value          0.000     0.000  2904.07  \n",
       "customer_age        42.000    56.000    70.00  \n",
       "session_duration    16.000    23.000    30.00  "
      ]
     },
     "execution_count": 37,
     "metadata": {},
     "output_type": "execute_result"
    }
   ],
   "source": [
    "df.describe().T"
   ]
  },
  {
   "cell_type": "code",
   "execution_count": 42,
   "metadata": {},
   "outputs": [],
   "source": [
    "def subplot_col_num (dataframe):\n",
    "\n",
    "\n",
    "    col_nums = dataframe.select_dtypes(include= 'number').columns\n",
    "    num_graph = len(col_nums)\n",
    "\n",
    "    num_rows = (num_graph +2 )//2\n",
    "\n",
    "\n",
    "    fig, axes = plt.subplots(num_graph, 2, figsize=(15, num_rows*5))\n",
    "\n",
    "    for i, col in enumerate(col_nums):\n",
    "\n",
    "        sns.histplot(data=dataframe, x=col, ax=axes[i,0], bins=200)\n",
    "        axes[i,0].set_title(f'Distribución de {col}')\n",
    "        axes[i,0].set_xlabel(col)\n",
    "        axes[i,0].set_ylabel('Frecuencia')\n",
    "\n",
    "        sns.boxplot(data=dataframe, x=col, ax = axes[i,1])\n",
    "        axes[i,1].set_title(f'Boxplot de {col}')\n",
    "\n",
    "    for j in range(i+1, len(axes)):\n",
    "        fig.delaxes(axes[j])\n",
    "\n",
    "\n",
    "    plt.tight_layout()\n",
    "    plt.show()"
   ]
  },
  {
   "cell_type": "code",
   "execution_count": 43,
   "metadata": {},
   "outputs": [
    {
     "data": {
      "image/png": "[encoded data removed]",
      "text/plain": [
       "<Figure size 1500x2500 with 18 Axes>"
      ]
     },
     "metadata": {},
     "output_type": "display_data"
    }
   ],
   "source": [
    "subplot_col_num(df)"
   ]
  },
  {
   "cell_type": "code",
   "execution_count": 62,
   "metadata": {},
   "outputs": [],
   "source": [
    "def calculo_outliers (df, cols):\n",
    "    for col in cols:\n",
    "        q_75 = df[col].quantile(0.75)\n",
    "        q_25 = df[col].quantile(0.25)\n",
    "        rango_itq = q_75-q_25\n",
    "        inferior = q_25 - (rango_itq*1.5)\n",
    "        superior = q_75 + (rango_itq*1.5)\n",
    "\n",
    "        outliers = df[(df[col]< inferior) | (df[col] > superior)]\n",
    "        num_outliers = len(outliers)\n",
    "\n",
    "        per_outliers = num_outliers/df.shape[0]*100\n",
    "\n",
    "        print(f'En la columna {col.upper()} tenemos un total de {num_outliers} outliers, lo que representa un {per_outliers}% del total')\n",
    "\n",
    "\n"
   ]
  },
  {
   "cell_type": "code",
   "execution_count": 63,
   "metadata": {},
   "outputs": [
    {
     "name": "stdout",
     "output_type": "stream",
     "text": [
      "En la columna PRICE tenemos un total de 161 outliers, lo que representa un 8.05% del total\n",
      "En la columna TOTAL_VALUE tenemos un total de 247 outliers, lo que representa un 12.35% del total\n"
     ]
    }
   ],
   "source": [
    "calculo_outliers(df,['price', 'total_value'])"
   ]
  },
  {
   "cell_type": "markdown",
   "metadata": {},
   "source": [
    "# Nulos Numericas"
   ]
  },
  {
   "cell_type": "code",
   "execution_count": 64,
   "metadata": {},
   "outputs": [
    {
     "data": {
      "text/plain": [
       "price           2.0\n",
       "discount        2.0\n",
       "customer_age    2.0\n",
       "dtype: float64"
      ]
     },
     "execution_count": 64,
     "metadata": {},
     "output_type": "execute_result"
    }
   ],
   "source": [
    "df_nulos.select_dtypes(include='number').isnull().mean()*100"
   ]
  },
  {
   "cell_type": "code",
   "execution_count": 65,
   "metadata": {},
   "outputs": [
    {
     "data": {
      "text/html": [
       "<div>\n",
       "<style scoped>\n",
       "    .dataframe tbody tr th:only-of-type {\n",
       "        vertical-align: middle;\n",
       "    }\n",
       "\n",
       "    .dataframe tbody tr th {\n",
       "        vertical-align: top;\n",
       "    }\n",
       "\n",
       "    .dataframe thead th {\n",
       "        text-align: right;\n",
       "    }\n",
       "</style>\n",
       "<table border=\"1\" class=\"dataframe\">\n",
       "  <thead>\n",
       "    <tr style=\"text-align: right;\">\n",
       "      <th></th>\n",
       "      <th>count</th>\n",
       "      <th>mean</th>\n",
       "      <th>std</th>\n",
       "      <th>min</th>\n",
       "      <th>25%</th>\n",
       "      <th>50%</th>\n",
       "      <th>75%</th>\n",
       "      <th>max</th>\n",
       "    </tr>\n",
       "  </thead>\n",
       "  <tbody>\n",
       "    <tr>\n",
       "      <th>price</th>\n",
       "      <td>1960.0</td>\n",
       "      <td>184.572138</td>\n",
       "      <td>211.981538</td>\n",
       "      <td>5.02</td>\n",
       "      <td>46.0925</td>\n",
       "      <td>102.465</td>\n",
       "      <td>236.155</td>\n",
       "      <td>998.88</td>\n",
       "    </tr>\n",
       "    <tr>\n",
       "      <th>discount</th>\n",
       "      <td>1960.0</td>\n",
       "      <td>0.150224</td>\n",
       "      <td>0.086591</td>\n",
       "      <td>0.00</td>\n",
       "      <td>0.0800</td>\n",
       "      <td>0.150</td>\n",
       "      <td>0.220</td>\n",
       "      <td>0.30</td>\n",
       "    </tr>\n",
       "    <tr>\n",
       "      <th>customer_age</th>\n",
       "      <td>1960.0</td>\n",
       "      <td>43.156633</td>\n",
       "      <td>15.361675</td>\n",
       "      <td>18.00</td>\n",
       "      <td>30.0000</td>\n",
       "      <td>42.000</td>\n",
       "      <td>56.000</td>\n",
       "      <td>70.00</td>\n",
       "    </tr>\n",
       "  </tbody>\n",
       "</table>\n",
       "</div>"
      ],
      "text/plain": [
       "               count        mean         std    min      25%      50%  \\\n",
       "price         1960.0  184.572138  211.981538   5.02  46.0925  102.465   \n",
       "discount      1960.0    0.150224    0.086591   0.00   0.0800    0.150   \n",
       "customer_age  1960.0   43.156633   15.361675  18.00  30.0000   42.000   \n",
       "\n",
       "                  75%     max  \n",
       "price         236.155  998.88  \n",
       "discount        0.220    0.30  \n",
       "customer_age   56.000   70.00  "
      ]
     },
     "execution_count": 65,
     "metadata": {},
     "output_type": "execute_result"
    }
   ],
   "source": [
    "df_nulos.describe().T"
   ]
  },
  {
   "cell_type": "code",
   "execution_count": 66,
   "metadata": {},
   "outputs": [],
   "source": [
    "df_filled_simple = df.fillna({\n",
    "                    'discount': df['discount'].mean(),\n",
    "                    'customer_age': df['customer_age'].median()\n",
    "})"
   ]
  },
  {
   "cell_type": "code",
   "execution_count": 67,
   "metadata": {},
   "outputs": [
    {
     "data": {
      "text/plain": [
       "user_id              0\n",
       "group                0\n",
       "visit_date           0\n",
       "conversion           0\n",
       "product_category     0\n",
       "product_id           0\n",
       "product_name         0\n",
       "quantity             0\n",
       "price               40\n",
       "discount             0\n",
       "total_value          0\n",
       "payment_method       0\n",
       "shipping_method      0\n",
       "region               0\n",
       "customer_age         0\n",
       "customer_gender      0\n",
       "device               0\n",
       "session_duration     0\n",
       "coupon_used          0\n",
       "browser              0\n",
       "referral_source      0\n",
       "conversion_str       0\n",
       "dtype: int64"
      ]
     },
     "execution_count": 67,
     "metadata": {},
     "output_type": "execute_result"
    }
   ],
   "source": [
    "df_filled_simple.isnull().sum()"
   ]
  },
  {
   "cell_type": "code",
   "execution_count": 72,
   "metadata": {},
   "outputs": [],
   "source": [
    "def imputar_iterative(dataframe, lista_columas):\n",
    "    iter_imputer = IterativeImputer(max_iter=50, \n",
    "                                random_state=42)\n",
    "    data_imputed = iter_imputer.fit_transform(dataframe[lista_columas])\n",
    "    new_col = [col + \"_iterative\" for col in lista_columas]\n",
    "    dataframe[new_col] = data_imputed\n",
    "    return dataframe\n"
   ]
  },
  {
   "cell_type": "code",
   "execution_count": 79,
   "metadata": {},
   "outputs": [],
   "source": [
    "def imputar_knn(dataframe, lista_columas):\n",
    "    knn_imputer = KNNImputer(n_neighbors=5)\n",
    "    data_imputed = knn_imputer.fit_transform(dataframe[lista_columas])\n",
    "    new_col = [col + \"_knn\" for col in lista_columas]\n",
    "    dataframe[new_col] = data_imputed\n",
    "    return dataframe\n"
   ]
  },
  {
   "cell_type": "code",
   "execution_count": 77,
   "metadata": {},
   "outputs": [
    {
     "data": {
      "text/html": [
       "<div>\n",
       "<style scoped>\n",
       "    .dataframe tbody tr th:only-of-type {\n",
       "        vertical-align: middle;\n",
       "    }\n",
       "\n",
       "    .dataframe tbody tr th {\n",
       "        vertical-align: top;\n",
       "    }\n",
       "\n",
       "    .dataframe thead th {\n",
       "        text-align: right;\n",
       "    }\n",
       "</style>\n",
       "<table border=\"1\" class=\"dataframe\">\n",
       "  <thead>\n",
       "    <tr style=\"text-align: right;\">\n",
       "      <th></th>\n",
       "      <th>user_id</th>\n",
       "      <th>group</th>\n",
       "      <th>visit_date</th>\n",
       "      <th>conversion</th>\n",
       "      <th>product_category</th>\n",
       "      <th>product_id</th>\n",
       "      <th>product_name</th>\n",
       "      <th>quantity</th>\n",
       "      <th>price</th>\n",
       "      <th>discount</th>\n",
       "      <th>...</th>\n",
       "      <th>region</th>\n",
       "      <th>customer_age</th>\n",
       "      <th>customer_gender</th>\n",
       "      <th>device</th>\n",
       "      <th>session_duration</th>\n",
       "      <th>coupon_used</th>\n",
       "      <th>browser</th>\n",
       "      <th>referral_source</th>\n",
       "      <th>conversion_str</th>\n",
       "      <th>price_iterative</th>\n",
       "    </tr>\n",
       "  </thead>\n",
       "  <tbody>\n",
       "    <tr>\n",
       "      <th>196</th>\n",
       "      <td>197</td>\n",
       "      <td>b</td>\n",
       "      <td>2022-01-06</td>\n",
       "      <td>1</td>\n",
       "      <td>sports</td>\n",
       "      <td>1665</td>\n",
       "      <td>gym_bag</td>\n",
       "      <td>5</td>\n",
       "      <td>87.85</td>\n",
       "      <td>0.12</td>\n",
       "      <td>...</td>\n",
       "      <td>south</td>\n",
       "      <td>38.0</td>\n",
       "      <td>m</td>\n",
       "      <td>tablet</td>\n",
       "      <td>29</td>\n",
       "      <td>yes</td>\n",
       "      <td>safari</td>\n",
       "      <td>email</td>\n",
       "      <td>yes</td>\n",
       "      <td>87.85</td>\n",
       "    </tr>\n",
       "  </tbody>\n",
       "</table>\n",
       "<p>1 rows × 23 columns</p>\n",
       "</div>"
      ],
      "text/plain": [
       "     user_id group  visit_date  conversion product_category  product_id  \\\n",
       "196      197     b  2022-01-06           1           sports        1665   \n",
       "\n",
       "    product_name  quantity  price  discount  ...  region customer_age  \\\n",
       "196      gym_bag         5  87.85      0.12  ...   south         38.0   \n",
       "\n",
       "    customer_gender  device  session_duration coupon_used browser  \\\n",
       "196               m  tablet                29         yes  safari   \n",
       "\n",
       "     referral_source conversion_str price_iterative  \n",
       "196            email            yes           87.85  \n",
       "\n",
       "[1 rows x 23 columns]"
      ]
     },
     "execution_count": 77,
     "metadata": {},
     "output_type": "execute_result"
    }
   ],
   "source": [
    "df_filled_simple = imputar_iterative(df_filled_simple, ['price'])\n",
    "df_filled_simple.sample()"
   ]
  },
  {
   "cell_type": "code",
   "execution_count": 80,
   "metadata": {},
   "outputs": [
    {
     "data": {
      "text/html": [
       "<div>\n",
       "<style scoped>\n",
       "    .dataframe tbody tr th:only-of-type {\n",
       "        vertical-align: middle;\n",
       "    }\n",
       "\n",
       "    .dataframe tbody tr th {\n",
       "        vertical-align: top;\n",
       "    }\n",
       "\n",
       "    .dataframe thead th {\n",
       "        text-align: right;\n",
       "    }\n",
       "</style>\n",
       "<table border=\"1\" class=\"dataframe\">\n",
       "  <thead>\n",
       "    <tr style=\"text-align: right;\">\n",
       "      <th></th>\n",
       "      <th>user_id</th>\n",
       "      <th>group</th>\n",
       "      <th>visit_date</th>\n",
       "      <th>conversion</th>\n",
       "      <th>product_category</th>\n",
       "      <th>product_id</th>\n",
       "      <th>product_name</th>\n",
       "      <th>quantity</th>\n",
       "      <th>price</th>\n",
       "      <th>discount</th>\n",
       "      <th>...</th>\n",
       "      <th>customer_age</th>\n",
       "      <th>customer_gender</th>\n",
       "      <th>device</th>\n",
       "      <th>session_duration</th>\n",
       "      <th>coupon_used</th>\n",
       "      <th>browser</th>\n",
       "      <th>referral_source</th>\n",
       "      <th>conversion_str</th>\n",
       "      <th>price_iterative</th>\n",
       "      <th>price_knn</th>\n",
       "    </tr>\n",
       "  </thead>\n",
       "  <tbody>\n",
       "    <tr>\n",
       "      <th>816</th>\n",
       "      <td>817</td>\n",
       "      <td>b</td>\n",
       "      <td>2022-01-19</td>\n",
       "      <td>0</td>\n",
       "      <td>beauty</td>\n",
       "      <td>1229</td>\n",
       "      <td>lipstick</td>\n",
       "      <td>0</td>\n",
       "      <td>45.32</td>\n",
       "      <td>0.17</td>\n",
       "      <td>...</td>\n",
       "      <td>35.0</td>\n",
       "      <td>f</td>\n",
       "      <td>tablet</td>\n",
       "      <td>24</td>\n",
       "      <td>no_conversion</td>\n",
       "      <td>other</td>\n",
       "      <td>organic</td>\n",
       "      <td>no</td>\n",
       "      <td>45.32</td>\n",
       "      <td>45.32</td>\n",
       "    </tr>\n",
       "  </tbody>\n",
       "</table>\n",
       "<p>1 rows × 24 columns</p>\n",
       "</div>"
      ],
      "text/plain": [
       "     user_id group  visit_date  conversion product_category  product_id  \\\n",
       "816      817     b  2022-01-19           0           beauty        1229   \n",
       "\n",
       "    product_name  quantity  price  discount  ...  customer_age  \\\n",
       "816     lipstick         0  45.32      0.17  ...          35.0   \n",
       "\n",
       "    customer_gender  device session_duration    coupon_used browser  \\\n",
       "816               f  tablet               24  no_conversion   other   \n",
       "\n",
       "    referral_source  conversion_str price_iterative price_knn  \n",
       "816         organic              no           45.32     45.32  \n",
       "\n",
       "[1 rows x 24 columns]"
      ]
     },
     "execution_count": 80,
     "metadata": {},
     "output_type": "execute_result"
    }
   ],
   "source": [
    "df_filled_simple = imputar_knn(df_filled_simple, ['price'])\n",
    "df_filled_simple.sample()"
   ]
  },
  {
   "cell_type": "code",
   "execution_count": 81,
   "metadata": {},
   "outputs": [
    {
     "data": {
      "text/plain": [
       "user_id              0\n",
       "group                0\n",
       "visit_date           0\n",
       "conversion           0\n",
       "product_category     0\n",
       "product_id           0\n",
       "product_name         0\n",
       "quantity             0\n",
       "price               40\n",
       "discount             0\n",
       "total_value          0\n",
       "payment_method       0\n",
       "shipping_method      0\n",
       "region               0\n",
       "customer_age         0\n",
       "customer_gender      0\n",
       "device               0\n",
       "session_duration     0\n",
       "coupon_used          0\n",
       "browser              0\n",
       "referral_source      0\n",
       "conversion_str       0\n",
       "price_iterative      0\n",
       "price_knn            0\n",
       "dtype: int64"
      ]
     },
     "execution_count": 81,
     "metadata": {},
     "output_type": "execute_result"
    }
   ],
   "source": [
    "df_filled_simple.isnull().sum()"
   ]
  },
  {
   "cell_type": "code",
   "execution_count": 83,
   "metadata": {},
   "outputs": [
    {
     "data": {
      "text/html": [
       "<div>\n",
       "<style scoped>\n",
       "    .dataframe tbody tr th:only-of-type {\n",
       "        vertical-align: middle;\n",
       "    }\n",
       "\n",
       "    .dataframe tbody tr th {\n",
       "        vertical-align: top;\n",
       "    }\n",
       "\n",
       "    .dataframe thead th {\n",
       "        text-align: right;\n",
       "    }\n",
       "</style>\n",
       "<table border=\"1\" class=\"dataframe\">\n",
       "  <thead>\n",
       "    <tr style=\"text-align: right;\">\n",
       "      <th></th>\n",
       "      <th>count</th>\n",
       "      <th>mean</th>\n",
       "      <th>std</th>\n",
       "      <th>min</th>\n",
       "      <th>25%</th>\n",
       "      <th>50%</th>\n",
       "      <th>75%</th>\n",
       "      <th>max</th>\n",
       "    </tr>\n",
       "  </thead>\n",
       "  <tbody>\n",
       "    <tr>\n",
       "      <th>price</th>\n",
       "      <td>1960.0</td>\n",
       "      <td>184.572138</td>\n",
       "      <td>211.981538</td>\n",
       "      <td>5.02</td>\n",
       "      <td>46.0925</td>\n",
       "      <td>102.465</td>\n",
       "      <td>236.1550</td>\n",
       "      <td>998.88</td>\n",
       "    </tr>\n",
       "    <tr>\n",
       "      <th>price_iterative</th>\n",
       "      <td>2000.0</td>\n",
       "      <td>184.572138</td>\n",
       "      <td>209.849945</td>\n",
       "      <td>5.02</td>\n",
       "      <td>46.7975</td>\n",
       "      <td>106.810</td>\n",
       "      <td>231.7425</td>\n",
       "      <td>998.88</td>\n",
       "    </tr>\n",
       "    <tr>\n",
       "      <th>price_knn</th>\n",
       "      <td>2000.0</td>\n",
       "      <td>184.572138</td>\n",
       "      <td>209.849945</td>\n",
       "      <td>5.02</td>\n",
       "      <td>46.7975</td>\n",
       "      <td>106.810</td>\n",
       "      <td>231.7425</td>\n",
       "      <td>998.88</td>\n",
       "    </tr>\n",
       "  </tbody>\n",
       "</table>\n",
       "</div>"
      ],
      "text/plain": [
       "                  count        mean         std   min      25%      50%  \\\n",
       "price            1960.0  184.572138  211.981538  5.02  46.0925  102.465   \n",
       "price_iterative  2000.0  184.572138  209.849945  5.02  46.7975  106.810   \n",
       "price_knn        2000.0  184.572138  209.849945  5.02  46.7975  106.810   \n",
       "\n",
       "                      75%     max  \n",
       "price            236.1550  998.88  \n",
       "price_iterative  231.7425  998.88  \n",
       "price_knn        231.7425  998.88  "
      ]
     },
     "execution_count": 83,
     "metadata": {},
     "output_type": "execute_result"
    }
   ],
   "source": [
    "df_filled_simple[['price', 'price_iterative','price_knn']].describe().T"
   ]
  },
  {
   "cell_type": "code",
   "execution_count": 84,
   "metadata": {},
   "outputs": [],
   "source": [
    "df_filled_simple.drop( columns= ['price', 'price_iterative'], inplace = True)"
   ]
  },
  {
   "cell_type": "code",
   "execution_count": 86,
   "metadata": {},
   "outputs": [
    {
     "data": {
      "text/plain": [
       "user_id             0\n",
       "group               0\n",
       "visit_date          0\n",
       "conversion          0\n",
       "product_category    0\n",
       "product_id          0\n",
       "product_name        0\n",
       "quantity            0\n",
       "discount            0\n",
       "total_value         0\n",
       "payment_method      0\n",
       "shipping_method     0\n",
       "region              0\n",
       "customer_age        0\n",
       "customer_gender     0\n",
       "device              0\n",
       "session_duration    0\n",
       "coupon_used         0\n",
       "browser             0\n",
       "referral_source     0\n",
       "conversion_str      0\n",
       "price_knn           0\n",
       "dtype: int64"
      ]
     },
     "execution_count": 86,
     "metadata": {},
     "output_type": "execute_result"
    }
   ],
   "source": [
    "df_filled_simple.isnull().sum()"
   ]
  },
  {
   "cell_type": "code",
   "execution_count": 87,
   "metadata": {},
   "outputs": [],
   "source": [
    "df_filled_simple.to_csv('../data/data_limpios_nonulos.csv', index = False)"
   ]
  }
 ],
 "metadata": {
  "kernelspec": {
   "display_name": "proyecto_ab_amazon",
   "language": "python",
   "name": "python3"
  },
  "language_info": {
   "codemirror_mode": {
    "name": "ipython",
    "version": 3
   },
   "file_extension": ".py",
   "mimetype": "text/x-python",
   "name": "python",
   "nbconvert_exporter": "python",
   "pygments_lexer": "ipython3",
   "version": "3.12.8"
  }
 },
 "nbformat": 4,
 "nbformat_minor": 2
}
