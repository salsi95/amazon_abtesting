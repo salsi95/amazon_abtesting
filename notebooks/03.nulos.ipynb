{
 "cells": [
  {
   "cell_type": "markdown",
   "metadata": {},
   "source": [
    "# Nulos a gestionar\n",
    "\n",
    "- **Price** -> Tiene 40 nulos (2%). \n",
    "\n",
    "- **Discount** -> Tiene 40 nulos (2%). \n",
    "- **Payment Method** -> Tiene 1753 nulos (87.65%)\n",
    "- **Shipping Method** -> Tiene 1753 nulos (87.65%)\n",
    "- **Customer Age** -> Tiene 40 nulos (2%).\n",
    "\n",
    "- **Cupon Used** -> Tiene 1753 nulos (87.65%)\n"
   ]
  }
 ],
 "metadata": {
  "language_info": {
   "name": "python"
  }
 },
 "nbformat": 4,
 "nbformat_minor": 2
}
