{
 "cells": [
  {
   "cell_type": "code",
   "execution_count": 1,
   "metadata": {},
   "outputs": [],
   "source": [
    "#Trataiento de datos\n",
    "import pandas as pd\n",
    "pd.set_option('display.max_columns', None)\n",
    "#--------------\n",
    "#Exploración de archivos\n",
    "import sys\n",
    "sys.path.append('../')\n",
    "#--------------\n",
    "\n",
    "#Funciones personalizadas\n",
    "from src import sp_limpieza as sl\n",
    "#--------------\n"
   ]
  },
  {
   "cell_type": "code",
   "execution_count": 2,
   "metadata": {},
   "outputs": [
    {
     "data": {
      "text/html": [
       "<div>\n",
       "<style scoped>\n",
       "    .dataframe tbody tr th:only-of-type {\n",
       "        vertical-align: middle;\n",
       "    }\n",
       "\n",
       "    .dataframe tbody tr th {\n",
       "        vertical-align: top;\n",
       "    }\n",
       "\n",
       "    .dataframe thead th {\n",
       "        text-align: right;\n",
       "    }\n",
       "</style>\n",
       "<table border=\"1\" class=\"dataframe\">\n",
       "  <thead>\n",
       "    <tr style=\"text-align: right;\">\n",
       "      <th></th>\n",
       "      <th>User Id</th>\n",
       "      <th>Group</th>\n",
       "      <th>Visit Date</th>\n",
       "      <th>Conversion</th>\n",
       "      <th>Product Category</th>\n",
       "      <th>Product Id</th>\n",
       "      <th>Product Name</th>\n",
       "      <th>Quantity</th>\n",
       "      <th>Price</th>\n",
       "      <th>Discount</th>\n",
       "      <th>Total Value</th>\n",
       "      <th>Payment Method</th>\n",
       "      <th>Shipping Method</th>\n",
       "      <th>Region</th>\n",
       "      <th>Customer Age</th>\n",
       "      <th>Customer Gender</th>\n",
       "      <th>Device</th>\n",
       "      <th>Session Duration</th>\n",
       "      <th>Coupon Used</th>\n",
       "      <th>Browser</th>\n",
       "      <th>Referral Source</th>\n",
       "    </tr>\n",
       "  </thead>\n",
       "  <tbody>\n",
       "    <tr>\n",
       "      <th>899</th>\n",
       "      <td>900</td>\n",
       "      <td>A</td>\n",
       "      <td>2022-01-29</td>\n",
       "      <td>0</td>\n",
       "      <td>BEAUTY</td>\n",
       "      <td>P1278</td>\n",
       "      <td>Perfume</td>\n",
       "      <td>0</td>\n",
       "      <td>66,05</td>\n",
       "      <td>0,16</td>\n",
       "      <td>0,0</td>\n",
       "      <td>NaN</td>\n",
       "      <td>NaN</td>\n",
       "      <td>West</td>\n",
       "      <td>43.0</td>\n",
       "      <td>M</td>\n",
       "      <td>Desktop</td>\n",
       "      <td>18</td>\n",
       "      <td>NaN</td>\n",
       "      <td>Eddddge</td>\n",
       "      <td>Organic</td>\n",
       "    </tr>\n",
       "    <tr>\n",
       "      <th>1071</th>\n",
       "      <td>1072</td>\n",
       "      <td>A</td>\n",
       "      <td>2022-03-13</td>\n",
       "      <td>0</td>\n",
       "      <td>SPORTS</td>\n",
       "      <td>P1374</td>\n",
       "      <td>Tennis Racket</td>\n",
       "      <td>0</td>\n",
       "      <td>192,98</td>\n",
       "      <td>0,3</td>\n",
       "      <td>0,0</td>\n",
       "      <td>NaN</td>\n",
       "      <td>NaN</td>\n",
       "      <td>North</td>\n",
       "      <td>42.0</td>\n",
       "      <td>M</td>\n",
       "      <td>TABLET</td>\n",
       "      <td>29</td>\n",
       "      <td>NaN</td>\n",
       "      <td>Chrooome</td>\n",
       "      <td>Email</td>\n",
       "    </tr>\n",
       "    <tr>\n",
       "      <th>1389</th>\n",
       "      <td>1390</td>\n",
       "      <td>A</td>\n",
       "      <td>2022-03-06</td>\n",
       "      <td>0</td>\n",
       "      <td>SPORTS</td>\n",
       "      <td>P1804</td>\n",
       "      <td>Football</td>\n",
       "      <td>0</td>\n",
       "      <td>77,91</td>\n",
       "      <td>0,13</td>\n",
       "      <td>0,0</td>\n",
       "      <td>NaN</td>\n",
       "      <td>NaN</td>\n",
       "      <td>East</td>\n",
       "      <td>42.0</td>\n",
       "      <td>M</td>\n",
       "      <td>Desktop</td>\n",
       "      <td>10</td>\n",
       "      <td>NaN</td>\n",
       "      <td>Safaaaaari</td>\n",
       "      <td>PAID</td>\n",
       "    </tr>\n",
       "    <tr>\n",
       "      <th>1272</th>\n",
       "      <td>1273</td>\n",
       "      <td>B</td>\n",
       "      <td>2022-03-01</td>\n",
       "      <td>0</td>\n",
       "      <td>BOOKS</td>\n",
       "      <td>P1886</td>\n",
       "      <td>Novel</td>\n",
       "      <td>0</td>\n",
       "      <td>47,13</td>\n",
       "      <td>0,07</td>\n",
       "      <td>0,0</td>\n",
       "      <td>NaN</td>\n",
       "      <td>NaN</td>\n",
       "      <td>Central</td>\n",
       "      <td>34.0</td>\n",
       "      <td>Other</td>\n",
       "      <td>Desktop</td>\n",
       "      <td>11</td>\n",
       "      <td>NaN</td>\n",
       "      <td>Ottttther</td>\n",
       "      <td>Email</td>\n",
       "    </tr>\n",
       "    <tr>\n",
       "      <th>496</th>\n",
       "      <td>497</td>\n",
       "      <td>B</td>\n",
       "      <td>2022-03-15</td>\n",
       "      <td>0</td>\n",
       "      <td>HOME</td>\n",
       "      <td>P1314</td>\n",
       "      <td>Table</td>\n",
       "      <td>0</td>\n",
       "      <td>495,28</td>\n",
       "      <td>0,25</td>\n",
       "      <td>0,0</td>\n",
       "      <td>NaN</td>\n",
       "      <td>NaN</td>\n",
       "      <td>South</td>\n",
       "      <td>64.0</td>\n",
       "      <td>M</td>\n",
       "      <td>TABLET</td>\n",
       "      <td>2</td>\n",
       "      <td>NaN</td>\n",
       "      <td>Chrooome</td>\n",
       "      <td>PAID</td>\n",
       "    </tr>\n",
       "  </tbody>\n",
       "</table>\n",
       "</div>"
      ],
      "text/plain": [
       "      User Id Group  Visit Date  Conversion Product Category Product Id  \\\n",
       "899       900     A  2022-01-29           0           BEAUTY      P1278   \n",
       "1071     1072     A  2022-03-13           0           SPORTS      P1374   \n",
       "1389     1390     A  2022-03-06           0           SPORTS      P1804   \n",
       "1272     1273     B  2022-03-01           0            BOOKS      P1886   \n",
       "496       497     B  2022-03-15           0             HOME      P1314   \n",
       "\n",
       "       Product Name  Quantity   Price Discount Total Value Payment Method  \\\n",
       "899         Perfume         0   66,05     0,16         0,0            NaN   \n",
       "1071  Tennis Racket         0  192,98      0,3         0,0            NaN   \n",
       "1389       Football         0   77,91     0,13         0,0            NaN   \n",
       "1272          Novel         0   47,13     0,07         0,0            NaN   \n",
       "496           Table         0  495,28     0,25         0,0            NaN   \n",
       "\n",
       "     Shipping Method   Region  Customer Age Customer Gender   Device  \\\n",
       "899              NaN     West          43.0               M  Desktop   \n",
       "1071             NaN    North          42.0               M   TABLET   \n",
       "1389             NaN     East          42.0               M  Desktop   \n",
       "1272             NaN  Central          34.0           Other  Desktop   \n",
       "496              NaN    South          64.0               M   TABLET   \n",
       "\n",
       "      Session Duration Coupon Used     Browser Referral Source  \n",
       "899                 18         NaN     Eddddge         Organic  \n",
       "1071                29         NaN    Chrooome           Email  \n",
       "1389                10         NaN  Safaaaaari            PAID  \n",
       "1272                11         NaN   Ottttther           Email  \n",
       "496                  2         NaN    Chrooome            PAID  "
      ]
     },
     "execution_count": 2,
     "metadata": {},
     "output_type": "execute_result"
    }
   ],
   "source": [
    "df_raw = pd.read_csv('../data/data_raw.csv')\n",
    "df_raw.sample(5)"
   ]
  },
  {
   "cell_type": "code",
   "execution_count": 3,
   "metadata": {},
   "outputs": [],
   "source": [
    "df = df_raw.copy()"
   ]
  },
  {
   "cell_type": "markdown",
   "metadata": {},
   "source": [
    "### Cambios nombres columnas"
   ]
  },
  {
   "cell_type": "code",
   "execution_count": 4,
   "metadata": {},
   "outputs": [],
   "source": [
    "df.columns = df.columns.str.replace(' ', '_').str.lower()"
   ]
  },
  {
   "cell_type": "markdown",
   "metadata": {},
   "source": [
    "### visit_date a fecha"
   ]
  },
  {
   "cell_type": "code",
   "execution_count": 5,
   "metadata": {},
   "outputs": [],
   "source": [
    "df['visit_date'] = pd.to_datetime(df['visit_date'], format = '%Y-%m-%d')"
   ]
  },
  {
   "cell_type": "markdown",
   "metadata": {},
   "source": [
    "### Crear conversion str"
   ]
  },
  {
   "cell_type": "code",
   "execution_count": 6,
   "metadata": {},
   "outputs": [],
   "source": [
    "df['conversion_str'] = df['conversion'].apply(lambda x: 'yes' if x ==1 else 'no')"
   ]
  },
  {
   "cell_type": "markdown",
   "metadata": {},
   "source": [
    "### Product cat fashhion"
   ]
  },
  {
   "cell_type": "code",
   "execution_count": 7,
   "metadata": {},
   "outputs": [],
   "source": [
    "df['product_category'] = df['product_category'].str.replace('fashhion', 'fashion')"
   ]
  },
  {
   "cell_type": "markdown",
   "metadata": {},
   "source": [
    "### Product id a num"
   ]
  },
  {
   "cell_type": "code",
   "execution_count": 8,
   "metadata": {},
   "outputs": [],
   "source": [
    "df['product_id'] = df['product_id'].str.replace('P', '')\n",
    "df['product_id'] = df['product_id'].astype('int64')"
   ]
  },
  {
   "cell_type": "markdown",
   "metadata": {},
   "source": [
    "### Product Name cambiar espacios por _"
   ]
  },
  {
   "cell_type": "code",
   "execution_count": 9,
   "metadata": {},
   "outputs": [],
   "source": [
    "sl.minus(df)"
   ]
  },
  {
   "cell_type": "markdown",
   "metadata": {},
   "source": [
    "### Price , por . y tipo float"
   ]
  },
  {
   "cell_type": "code",
   "execution_count": 10,
   "metadata": {},
   "outputs": [],
   "source": [
    "sl.comas(df)"
   ]
  },
  {
   "cell_type": "markdown",
   "metadata": {},
   "source": [
    "### Payment method ' ' por '_'"
   ]
  },
  {
   "cell_type": "code",
   "execution_count": 11,
   "metadata": {},
   "outputs": [],
   "source": [
    "sl.espacios(df)"
   ]
  },
  {
   "cell_type": "markdown",
   "metadata": {},
   "source": [
    "### map de browser"
   ]
  },
  {
   "cell_type": "code",
   "execution_count": 12,
   "metadata": {},
   "outputs": [],
   "source": [
    "dicc_map ={'safaaaaari' : 'safari', \n",
    "           'ottttther' : 'other', \n",
    "           'firefoxxxxxx': 'firefox', \n",
    "           'eddddge': 'edge', \n",
    "           'chrooome':'chrome'}"
   ]
  },
  {
   "cell_type": "code",
   "execution_count": 13,
   "metadata": {},
   "outputs": [],
   "source": [
    "df['browser'] = df['browser'].map(dicc_map)"
   ]
  },
  {
   "cell_type": "code",
   "execution_count": 15,
   "metadata": {},
   "outputs": [],
   "source": [
    "df.to_csv('../data/data_limpios.csv', index=False)"
   ]
  }
 ],
 "metadata": {
  "kernelspec": {
   "display_name": "proyecto_ab_amazon",
   "language": "python",
   "name": "python3"
  },
  "language_info": {
   "codemirror_mode": {
    "name": "ipython",
    "version": 3
   },
   "file_extension": ".py",
   "mimetype": "text/x-python",
   "name": "python",
   "nbconvert_exporter": "python",
   "pygments_lexer": "ipython3",
   "version": "3.12.8"
  }
 },
 "nbformat": 4,
 "nbformat_minor": 2
}
