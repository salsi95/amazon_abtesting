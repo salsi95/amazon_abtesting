{
 "cells": [
  {
   "cell_type": "markdown",
   "metadata": {},
   "source": [
    "# Cosas a limpiar\n",
    "\n",
    "- **Visit Date** -> Cambiar a tipo fecha\n",
    "\n",
    "- **Conversion** -> Cambiar a str??\n",
    "- **Product Category** -> Cambiar a minus. Cambiar fashhion a fashion.\n",
    "- **Product ID** -> Cambiar a num??\n",
    "- **Product Name** -> Cambiar espacios por '_'\n",
    "- **Price** -> Tiene 40 nulos (2%). Cambiar ',' por '.' y cambiar a tipo float\n",
    "- **Discount** -> Tiene 40 nulos (2%). Cambiar ',' por '.' y cambiar a tipo float\n",
    "- **Total Value** -> Cambiar ',' por '.' y cambiar a tipo float\n",
    "- **Payment Method** -> Tiene 1753 nulos (87.65%). Cambiar espacios por '_'\n",
    "- **Shipping Method** -> Tiene 1753 nulos (87.65%). Cambiar espacios por '_'\n",
    "- **Customer Age** -> Tiene 40 nulos (2%).\n",
    "- **Device** -> Cambiar a minus\n",
    "- **Cupon Used** -> Tiene 1753 nulos (87.65%)\n",
    "- **Browser** -> Cambiar las categorías porque están mal escritas\n",
    "- **Referral Source** -> Cambiar a minus\n"
   ]
  }
 ],
 "metadata": {
  "language_info": {
   "name": "python"
  }
 },
 "nbformat": 4,
 "nbformat_minor": 2
}
